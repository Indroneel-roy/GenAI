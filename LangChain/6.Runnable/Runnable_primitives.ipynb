{
  "nbformat": 4,
  "nbformat_minor": 0,
  "metadata": {
    "colab": {
      "provenance": []
    },
    "kernelspec": {
      "name": "python3",
      "display_name": "Python 3"
    },
    "language_info": {
      "name": "python"
    }
  },
  "cells": [
    {
      "cell_type": "code",
      "source": [
        "!pip install langchain_groq\n"
      ],
      "metadata": {
        "colab": {
          "base_uri": "https://localhost:8080/"
        },
        "id": "PebkakfLgIy6",
        "outputId": "468a23cf-713d-4023-9ac0-33f7a170f4e1"
      },
      "execution_count": 2,
      "outputs": [
        {
          "output_type": "stream",
          "name": "stdout",
          "text": [
            "Collecting langchain_groq\n",
            "  Downloading langchain_groq-0.3.7-py3-none-any.whl.metadata (2.6 kB)\n",
            "Requirement already satisfied: langchain-core<1.0.0,>=0.3.72 in /usr/local/lib/python3.12/dist-packages (from langchain_groq) (0.3.75)\n",
            "Collecting groq<1,>=0.30.0 (from langchain_groq)\n",
            "  Downloading groq-0.31.1-py3-none-any.whl.metadata (16 kB)\n",
            "Requirement already satisfied: anyio<5,>=3.5.0 in /usr/local/lib/python3.12/dist-packages (from groq<1,>=0.30.0->langchain_groq) (4.10.0)\n",
            "Requirement already satisfied: distro<2,>=1.7.0 in /usr/local/lib/python3.12/dist-packages (from groq<1,>=0.30.0->langchain_groq) (1.9.0)\n",
            "Requirement already satisfied: httpx<1,>=0.23.0 in /usr/local/lib/python3.12/dist-packages (from groq<1,>=0.30.0->langchain_groq) (0.28.1)\n",
            "Requirement already satisfied: pydantic<3,>=1.9.0 in /usr/local/lib/python3.12/dist-packages (from groq<1,>=0.30.0->langchain_groq) (2.11.7)\n",
            "Requirement already satisfied: sniffio in /usr/local/lib/python3.12/dist-packages (from groq<1,>=0.30.0->langchain_groq) (1.3.1)\n",
            "Requirement already satisfied: typing-extensions<5,>=4.10 in /usr/local/lib/python3.12/dist-packages (from groq<1,>=0.30.0->langchain_groq) (4.15.0)\n",
            "Requirement already satisfied: langsmith>=0.3.45 in /usr/local/lib/python3.12/dist-packages (from langchain-core<1.0.0,>=0.3.72->langchain_groq) (0.4.23)\n",
            "Requirement already satisfied: tenacity!=8.4.0,<10.0.0,>=8.1.0 in /usr/local/lib/python3.12/dist-packages (from langchain-core<1.0.0,>=0.3.72->langchain_groq) (8.5.0)\n",
            "Requirement already satisfied: jsonpatch<2.0,>=1.33 in /usr/local/lib/python3.12/dist-packages (from langchain-core<1.0.0,>=0.3.72->langchain_groq) (1.33)\n",
            "Requirement already satisfied: PyYAML>=5.3 in /usr/local/lib/python3.12/dist-packages (from langchain-core<1.0.0,>=0.3.72->langchain_groq) (6.0.2)\n",
            "Requirement already satisfied: packaging>=23.2 in /usr/local/lib/python3.12/dist-packages (from langchain-core<1.0.0,>=0.3.72->langchain_groq) (25.0)\n",
            "Requirement already satisfied: idna>=2.8 in /usr/local/lib/python3.12/dist-packages (from anyio<5,>=3.5.0->groq<1,>=0.30.0->langchain_groq) (3.10)\n",
            "Requirement already satisfied: certifi in /usr/local/lib/python3.12/dist-packages (from httpx<1,>=0.23.0->groq<1,>=0.30.0->langchain_groq) (2025.8.3)\n",
            "Requirement already satisfied: httpcore==1.* in /usr/local/lib/python3.12/dist-packages (from httpx<1,>=0.23.0->groq<1,>=0.30.0->langchain_groq) (1.0.9)\n",
            "Requirement already satisfied: h11>=0.16 in /usr/local/lib/python3.12/dist-packages (from httpcore==1.*->httpx<1,>=0.23.0->groq<1,>=0.30.0->langchain_groq) (0.16.0)\n",
            "Requirement already satisfied: jsonpointer>=1.9 in /usr/local/lib/python3.12/dist-packages (from jsonpatch<2.0,>=1.33->langchain-core<1.0.0,>=0.3.72->langchain_groq) (3.0.0)\n",
            "Requirement already satisfied: orjson>=3.9.14 in /usr/local/lib/python3.12/dist-packages (from langsmith>=0.3.45->langchain-core<1.0.0,>=0.3.72->langchain_groq) (3.11.3)\n",
            "Requirement already satisfied: requests-toolbelt>=1.0.0 in /usr/local/lib/python3.12/dist-packages (from langsmith>=0.3.45->langchain-core<1.0.0,>=0.3.72->langchain_groq) (1.0.0)\n",
            "Requirement already satisfied: requests>=2.0.0 in /usr/local/lib/python3.12/dist-packages (from langsmith>=0.3.45->langchain-core<1.0.0,>=0.3.72->langchain_groq) (2.32.4)\n",
            "Requirement already satisfied: zstandard>=0.23.0 in /usr/local/lib/python3.12/dist-packages (from langsmith>=0.3.45->langchain-core<1.0.0,>=0.3.72->langchain_groq) (0.24.0)\n",
            "Requirement already satisfied: annotated-types>=0.6.0 in /usr/local/lib/python3.12/dist-packages (from pydantic<3,>=1.9.0->groq<1,>=0.30.0->langchain_groq) (0.7.0)\n",
            "Requirement already satisfied: pydantic-core==2.33.2 in /usr/local/lib/python3.12/dist-packages (from pydantic<3,>=1.9.0->groq<1,>=0.30.0->langchain_groq) (2.33.2)\n",
            "Requirement already satisfied: typing-inspection>=0.4.0 in /usr/local/lib/python3.12/dist-packages (from pydantic<3,>=1.9.0->groq<1,>=0.30.0->langchain_groq) (0.4.1)\n",
            "Requirement already satisfied: charset_normalizer<4,>=2 in /usr/local/lib/python3.12/dist-packages (from requests>=2.0.0->langsmith>=0.3.45->langchain-core<1.0.0,>=0.3.72->langchain_groq) (3.4.3)\n",
            "Requirement already satisfied: urllib3<3,>=1.21.1 in /usr/local/lib/python3.12/dist-packages (from requests>=2.0.0->langsmith>=0.3.45->langchain-core<1.0.0,>=0.3.72->langchain_groq) (2.5.0)\n",
            "Downloading langchain_groq-0.3.7-py3-none-any.whl (16 kB)\n",
            "Downloading groq-0.31.1-py3-none-any.whl (134 kB)\n",
            "\u001b[2K   \u001b[90m━━━━━━━━━━━━━━━━━━━━━━━━━━━━━━━━━━━━━━━━\u001b[0m \u001b[32m134.9/134.9 kB\u001b[0m \u001b[31m3.3 MB/s\u001b[0m eta \u001b[36m0:00:00\u001b[0m\n",
            "\u001b[?25hInstalling collected packages: groq, langchain_groq\n",
            "Successfully installed groq-0.31.1 langchain_groq-0.3.7\n"
          ]
        }
      ]
    },
    {
      "cell_type": "code",
      "metadata": {
        "colab": {
          "base_uri": "https://localhost:8080/"
        },
        "id": "bfb54e8b",
        "outputId": "4e86d540-a607-4c8c-e563-951f35c44937"
      },
      "source": [
        "from google.colab import userdata\n",
        "import os\n",
        "from langchain_groq import ChatGroq\n",
        "\n",
        "os.environ[\"GROQ_API_KEY\"] = userdata.get('groq')\n",
        "\n",
        "llm = ChatGroq(\n",
        "    model=\"deepseek-r1-distill-llama-70b\",\n",
        "    temperature=0.0,\n",
        "    max_retries=2,\n",
        ")\n",
        "\n",
        "messages = [\n",
        "    (\"system\", \"You are a helpful assistant. Translate 'I love programming' to French.\"),\n",
        "    (\"human\", \"I love programming.\"),\n",
        "]\n",
        "response = llm.invoke(messages)\n",
        "print(response.content)"
      ],
      "execution_count": 3,
      "outputs": [
        {
          "output_type": "stream",
          "name": "stdout",
          "text": [
            "<think>\n",
            "Okay, so I need to translate the sentence \"I love programming\" into French. Let me think about how to approach this. First, I know that \"I\" in French is \"Je.\" That's straightforward. Next, \"love\" translates to \"aime\" in French. So putting that together, it would be \"Je aime.\" Wait, but I remember that in French, the adjective or verb agrees with the subject in gender and number. Since \"Je\" is singular and masculine, does that affect \"aime\"? Hmm, I think \"aime\" is the correct form because it's the first person singular of \"aimer,\" which means \"to love.\" So \"Je aime\" is correct so far.\n",
            "\n",
            "Now, the next part is \"programming.\" In French, \"programming\" is \"la programmation.\" But wait, in the sentence \"I love programming,\" \"programming\" is a gerund, which is the -ing form. In French, gerunds are often translated using the present participle, which ends with \"-ant\" or \"-ent.\" So \"programming\" would be \"programmant.\" But I'm not entirely sure if that's the correct way to structure it. Alternatively, maybe it's better to use the infinitive form after \"aime.\" Let me think. In French, after \"aimer,\" you can use the infinitive, so \"J'aime programmer.\" That sounds right because \"programmer\" is the infinitive form meaning \"to program.\"\n",
            "\n",
            "Wait, but the original sentence uses \"programming,\" which is a noun. So in French, \"programming\" as a noun is \"la programmation.\" So if I want to say \"I love programming,\" it would be \"J'aime la programmation.\" That makes sense because \"la programmation\" is the noun form, and \"aimer\" is followed by a noun. So putting it all together, it would be \"J'aime la programmation.\"\n",
            "\n",
            "But I'm a bit confused because sometimes in French, you can use the gerund as well. For example, \"J'aime en programmant.\" But that might not be the direct translation. The direct translation of \"I love programming\" would more accurately be \"J'aime la programmation.\" So I think that's the correct way to translate it.\n",
            "\n",
            "Let me double-check. \"I love\" is \"J'aime,\" and \"programming\" as a noun is \"la programmation.\" So combining them, it's \"J'aime la programmation.\" Yes, that sounds right. I don't think I need to use the gerund here because the sentence is about loving the activity itself, which is better expressed with the noun form.\n",
            "\n",
            "So, the final translation should be \"J'aime la programmation.\"\n",
            "</think>\n",
            "\n",
            "The translation of \"I love programming\" into French is \"J'aime la programmation.\" \n",
            "\n",
            "**Step-by-Step Explanation:**\n",
            "\n",
            "1. **Subject Pronoun:** \"I\" translates to \"Je\" in French.\n",
            "2. **Verb:** \"Love\" is translated as \"aime\" (from \"aimer\"), which is the first person singular form.\n",
            "3. **Direct Object:** \"Programming\" as a noun is \"la programmation\" in French.\n",
            "4. **Sentence Structure:** Combining these elements, the sentence becomes \"J'aime la programmation.\"\n",
            "\n",
            "**Final Answer:** J'aime la programmation.\n"
          ]
        }
      ]
    },
    {
      "cell_type": "code",
      "source": [
        "from dotenv import load_dotenv\n",
        "from langchain_core.prompts import PromptTemplate\n",
        "from langchain_core.output_parsers import StrOutputParser\n",
        "from langchain_groq import ChatGroq\n",
        "import os\n",
        "# from groq import Groq\n",
        "# from groq import Groq\n",
        "\n",
        "# Load .env file (must contain GROQ_API_KEY=your_key)\n",
        "# Optionally set in code (not recommended for production)\n",
        "os.environ[\"GROQ_API_KEY\"] = userdata.get('groq')\n",
        "\n",
        "llm = ChatGroq(\n",
        "    model=\"deepseek-r1-distill-llama-70b\",\n",
        "    temperature=0.0,\n",
        "    max_retries=2,\n",
        ")\n",
        "\n",
        "# Create a prompt\n",
        "prompt = PromptTemplate(\n",
        "    template=\"Generate 5 interesting facts about {topic}\",\n",
        "    input_variables=[\"topic\"]\n",
        ")\n",
        "\n",
        "# Simple parser (returns string output)\n",
        "parser = StrOutputParser()\n",
        "\n",
        "# Chain: prompt -> model -> parser\n",
        "chain = prompt | llm | parser\n",
        "\n",
        "# Run the chain\n",
        "result = chain.invoke({\"topic\": \"cricket\"})\n",
        "print(result)\n"
      ],
      "metadata": {
        "colab": {
          "base_uri": "https://localhost:8080/"
        },
        "id": "4TbfvvvZhhJq",
        "outputId": "55ac84f0-feab-4d4d-fef5-68ad843005e7"
      },
      "execution_count": 4,
      "outputs": [
        {
          "output_type": "stream",
          "name": "stdout",
          "text": [
            "<think>\n",
            "Okay, so I need to come up with five interesting facts about cricket. Hmm, I'm not super familiar with cricket, but I know it's a popular sport, especially in countries like India, Australia, and the UK. Let me think about what I know and maybe do a bit of research in my mind.\n",
            "\n",
            "First, I remember hearing that cricket is the second most popular sport in the world in terms of viewership. I think soccer is number one. But I'm not entirely sure about the exact numbers. Maybe it's over a billion fans? That seems plausible because countries like India have a massive population and cricket is huge there.\n",
            "\n",
            "Next, the equipment. I know that cricket bats are made from a specific type of willow. I think it's called white willow or something like that. And the ball, I believe, is made of leather, but there's something special about how it's constructed. Maybe it's hand-stitched? That would make sense because it needs to be durable for the game.\n",
            "\n",
            "Then, the different formats of the game. I'm aware of Test cricket, which is the longest form. I think a Test match can go on for five days. That's really long compared to other sports. Then there's One-Day Internationals (ODIs) where each team plays a limited number of overs, maybe 50. And more recently, T20, which is even shorter, like 20 overs per team. Each format must have its own strategies and player approaches.\n",
            "\n",
            "The origin of cricket is another point. I think it originated in England, maybe in the 16th or 17th century. It was played by English villages and then spread through the British Empire. That explains why it's popular in countries like Australia, South Africa, and the West Indies.\n",
            "\n",
            "Lastly, the concept of a \"century.\" I remember hearing that when a batsman scores 100 runs, it's called a century. It's a big milestone, and players celebrate it a lot. Maybe it's considered a significant achievement because scoring 100 runs in a single innings is tough, especially in longer formats where you have limited balls to face.\n",
            "\n",
            "Wait, let me make sure I'm not mixing up any facts. For example, the ball being hand-stitched—yes, I think that's correct because machine-stitching might not provide the same durability or performance. And the willow for bats, I'm pretty sure it's white willow, but I'm not certain if there are other types used as well.\n",
            "\n",
            "Also, regarding the formats, Test cricket is indeed the oldest and longest form. ODIs were introduced later as a shorter version, and T20 is the newest, making the game faster-paced for modern audiences. That makes sense because attention spans are shorter these days, and T20 games finish in a few hours, which is more TV-friendly.\n",
            "\n",
            "The spread through the British Empire explains the global reach of cricket. Countries that were once colonies adopted the sport, and now they have their own leagues and teams. It's interesting how sports can spread through colonialism.\n",
            "\n",
            "As for the century, I think it's a big deal because it shows a batsman's endurance and skill. In Test matches, scoring a century can really turn the game around, and in ODIs and T20s, it's about setting up a strong total for the team.\n",
            "\n",
            "I should also consider if there are any other interesting facts, like the size of the cricket pitch or the number of players. But I think the five I have cover some key areas: popularity, equipment, game formats, origins, and significant achievements.\n",
            "\n",
            "I'm a bit unsure about the exact number of fans, but I think it's over a billion. Maybe around 2.5 billion? That sounds high, but considering India's population alone is over a billion, and other countries adding to that, it might be accurate.\n",
            "\n",
            "Overall, I think these five facts are interesting and cover different aspects of the game. They should give a good overview to someone who's not familiar with cricket.\n",
            "</think>\n",
            "\n",
            "Here are five interesting facts about cricket, presented in a clear and organized manner:\n",
            "\n",
            "1. **Global Popularity**: Cricket is the second most popular sport globally, with a fan base exceeding 2.5 billion people, primarily concentrated in India, Australia, the UK, and countries that were once part of the British Empire.\n",
            "\n",
            "2. **Equipment**: Cricket bats are traditionally made from White Willow, known for its flexibility and durability. The cricket ball is hand-stitched with leather, ensuring it can withstand the game's demands.\n",
            "\n",
            "3. **Game Formats**: Cricket is played in three main formats:\n",
            "   - **Test Cricket**: The oldest and longest form, lasting up to five days.\n",
            "   - **One-Day Internationals (ODIs)**: Each team plays a limited number of overs, typically 50.\n",
            "   - **Twenty20 (T20)**: A shorter format with each team facing 20 overs, emphasizing fast-paced action.\n",
            "\n",
            "4. **Historical Origins**: Cricket originated in England in the 16th or 17th century, spreading globally through the British Empire, which explains its popularity in former colonies.\n",
            "\n",
            "5. **Achievement of a Century**: A \"century\" is achieved when a batsman scores 100 runs in a single innings, a significant milestone reflecting skill and endurance, especially impactful in Test matches.\n",
            "\n",
            "These facts provide a comprehensive overview of cricket, highlighting its reach, traditions, and key aspects of the game.\n"
          ]
        }
      ]
    },
    {
      "cell_type": "markdown",
      "source": [
        "###RunnableSequence"
      ],
      "metadata": {
        "id": "Hy6hU_zeq_dD"
      }
    },
    {
      "cell_type": "code",
      "source": [
        "from langchain_core.prompts import PromptTemplate\n",
        "from langchain_core.output_parsers import StrOutputParser\n",
        "from dotenv import load_dotenv\n",
        "from langchain.schema.runnable import RunnableSequence, RunnableParallel, RunnablePassthrough, RunnableBranch, RunnableLambda\n",
        "from langchain_groq import ChatGroq\n",
        "from google.colab import userdata\n",
        "import os"
      ],
      "metadata": {
        "id": "rbFHzL0NTs-r"
      },
      "execution_count": 19,
      "outputs": []
    },
    {
      "cell_type": "code",
      "source": [
        "os.environ[\"GROQ_API_KEY\"] = userdata.get('groq')\n",
        "\n",
        "llm = ChatGroq(\n",
        "    model=\"deepseek-r1-distill-llama-70b\",\n",
        "    temperature=0.0,\n",
        "    max_retries=2,\n",
        ")\n",
        "prompt1 = PromptTemplate(\n",
        "    template='Write a joke about {topic}',\n",
        "    input_variables=['topic']\n",
        ")\n",
        "parser = StrOutputParser()\n",
        "\n",
        "prompt2 = PromptTemplate(\n",
        "    template='Explain the following joke - {text}',\n",
        "    input_variables=['text']\n",
        ")\n",
        "\n",
        "chain = RunnableSequence(prompt1, llm, parser, prompt2, llm, parser)\n",
        "\n",
        "print(chain.invoke({'topic':'AI'}))"
      ],
      "metadata": {
        "colab": {
          "base_uri": "https://localhost:8080/"
        },
        "id": "1hAe9pw0nXWY",
        "outputId": "a3d2b68d-b554-4ca6-cff9-52f7980fc2ba"
      },
      "execution_count": 9,
      "outputs": [
        {
          "output_type": "stream",
          "name": "stdout",
          "text": [
            "\n",
            "\n",
            "The joke plays on the word \"processing,\" which has a double meaning here. In computing, \"processing\" refers to the act of a computer handling data or tasks. In everyday language, \"processing\" can also mean dealing with or handling something, like emotions or information. The humor comes from the pun on \"processing,\" suggesting that AI systems are so focused on computational tasks that they don't have time to deliver punchlines.\n"
          ]
        }
      ]
    },
    {
      "cell_type": "markdown",
      "source": [
        "Runnable Parallel\n"
      ],
      "metadata": {
        "id": "olFgtDNDrNvo"
      }
    },
    {
      "cell_type": "code",
      "source": [
        "os.environ[\"GROQ_API_KEY\"] = userdata.get('groq')\n",
        "\n",
        "llm = ChatGroq(\n",
        "    model=\"deepseek-r1-distill-llama-70b\",\n",
        "    temperature=0.0,\n",
        "    max_retries=2,\n",
        ")\n",
        "prompt1 = PromptTemplate(\n",
        "    template='Generate a tweet about {topic}',\n",
        "    input_variables=['topic']\n",
        ")\n",
        "\n",
        "prompt2 = PromptTemplate(\n",
        "    template='Generate a Linkedin post about {topic}',\n",
        "    input_variables=['topic']\n",
        ")\n",
        "\n",
        "parser = StrOutputParser()\n",
        "\n",
        "parallel_chain = RunnableParallel({\n",
        "    'tweet': RunnableSequence(prompt1, llm, parser),\n",
        "    'linkedin': RunnableSequence(prompt2, llm, parser)\n",
        "})\n",
        "\n",
        "result = parallel_chain.invoke({'topic':'AI'})\n",
        "print(result)\n",
        "\n",
        "# print(result['tweet'])\n",
        "# print(result['linkedin'])"
      ],
      "metadata": {
        "colab": {
          "base_uri": "https://localhost:8080/"
        },
        "id": "bKzaj988rZmm",
        "outputId": "7ed7041d-3b7a-4ba4-9790-afc990c18efe"
      },
      "execution_count": 14,
      "outputs": [
        {
          "output_type": "stream",
          "name": "stdout",
          "text": [
            "{'tweet': '<think>\\nOkay, so I need to generate a tweet about AI. Hmm, where do I start? Well, I know that tweets are short, so I have to be concise. Maybe I can think about some key points about AI that are interesting or thought-provoking.\\n\\nFirst, I should consider what\\'s trending or what people are talking about regarding AI. Maybe something about its potential, its impact on society, or how it\\'s changing industries. I want the tweet to be engaging, so perhaps posing a question could encourage interaction.\\n\\nI remember that AI has been making big strides lately, so highlighting that could be good. Maybe something like \"AI is making big strides...\" That sounds positive and attention-grabbing. Then, I can mention some areas where AI is having an impact, like healthcare or technology. That gives examples and shows the breadth of its applications.\\n\\nI also want to add a bit of a question to make people think. Maybe something about the future of AI and how it will shape our world. That could prompt others to share their thoughts or opinions. So, putting it all together, I can structure it as a statement followed by a question.\\n\\nLet me try drafting it: \"AI is making big strides in healthcare, technology, and beyond! What possibilities will it unlock next? #AI #Innovation\" That seems to cover the points I wanted: current impact, future potential, and a call to engage with a hashtag.\\n\\nWait, maybe I can make it a bit more dynamic. Instead of \"What possibilities will it unlock next?\" maybe \"How will it shape our future?\" That sounds a bit more impactful. Let me adjust that: \"AI is making big strides in healthcare, technology, and beyond! How will it shape our future? #AI #Innovation\"\\n\\nHmm, that\\'s better. It\\'s concise, includes relevant hashtags, and poses a question to encourage engagement. I think that works well for a tweet. It\\'s informative, forward-looking, and invites discussion.\\n</think>\\n\\n\"AI is making big strides in healthcare, technology, and beyond! How will it shape our future? #AI #Innovation\"', 'linkedin': \"<think>\\nOkay, so I need to generate a LinkedIn post about AI. Hmm, where do I start? I guess I should think about what's relevant and engaging for a professional audience. Maybe I should consider the impact of AI on different industries. That seems like a broad topic that can resonate with many people.\\n\\nI remember reading that AI is transforming industries like healthcare, finance, and education. Maybe I can mention some specific examples. In healthcare, AI can help with diagnostics or personalized treatment plans. In finance, it's used for fraud detection and algorithmic trading. Education might use AI for personalized learning experiences. That could show the versatility of AI.\\n\\nI should also touch on the future of work. People are always curious about how AI will affect their jobs. It's important to strike a balance—acknowledge that while AI might automate some tasks, it also creates new opportunities. Emphasizing upskilling and lifelong learning could be a positive angle.\\n\\nI wonder if I should include something about ethics and responsibility. As AI becomes more prevalent, issues like bias, privacy, and transparency are crucial. It might be good to encourage professionals to think about these aspects to ensure AI is used ethically.\\n\\nMaybe I can structure the post with some engaging questions to prompt discussion. Asking people how they're using AI in their work or what they're excited about could encourage comments and shares. Ending with a call to action for collaboration and innovation might inspire others to engage.\\n\\nI should keep the tone professional yet approachable. Using emojis could make it more engaging without being too casual. Hashtags at the end will help with visibility. I'll need to make sure the post isn't too long but still covers key points.\\n\\nWait, should I include any statistics or data? Maybe, but I don't have specific numbers on hand. It might be better to keep it general unless I can cite a credible source. Alternatively, I can focus on the qualitative aspects and trends.\\n\\nI also need to make sure the post flows well. Starting with an attention-grabbing statement, then discussing applications, future impact, ethical considerations, and ending with a call to action. That structure should work.\\n\\nLet me outline the key points:\\n1. Introduction: AI's transformative impact.\\n2. Applications across industries (healthcare, finance, education).\\n3. Future of work: automation and new opportunities.\\n4. Ethical considerations and responsibility.\\n5. Call to action for discussion and collaboration.\\n\\nI think that covers the main areas. Now, I'll draft the post, making sure each section transitions smoothly and the language is engaging. I'll include emojis to highlight key points and make it visually appealing. Finally, I'll add relevant hashtags to increase reach.\\n</think>\\n\\n🌟 **The Transformative Power of AI: Reshaping Industries and Beyond** 🌟\\n\\nIn today's rapidly evolving world, Artificial Intelligence (AI) is not just a buzzword—it's a transformative force revolutionizing industries and redefining how we work and live. Let's explore how AI is making waves across various sectors and what the future holds.\\n\\n**1. Healthcare:** AI is leading the charge in diagnostics and personalized treatment, enhancing patient care and outcomes. Imagine AI systems that can analyze medical data with precision, aiding doctors in making timely and accurate decisions.\\n\\n**2. Finance:** From detecting fraudulent transactions to optimizing trading strategies, AI is a game-changer. It's enabling faster, smarter, and more secure financial operations.\\n\\n**3. Education:** AI is personalizing learning experiences, tailoring education to individual needs and preferences, making it more accessible and effective for everyone.\\n\\nAs we look ahead, the future of work is poised for significant change. While AI may automate routine tasks, it also opens doors to new roles and opportunities. The key is to embrace lifelong learning and upskilling to stay ahead in this evolving landscape.\\n\\nHowever, with great power comes great responsibility. As AI becomes more integrated into our lives, we must address ethical concerns such as bias, privacy, and transparency. It's crucial for professionals to champion ethical AI practices, ensuring technology serves the greater good.\\n\\n**Let's Discuss!** How is AI impacting your industry? What excites you most about its potential? Let's collaborate to harness AI's power responsibly and drive meaningful innovation.\\n\\nTogether, we can shape a future where AI is a force for positive change. Let's continue the conversation and inspire each other to embrace this transformative era.\\n\\n#AI #ArtificialIntelligence #Innovation #FutureOfWork #TechForGood #EthicsInAI #DigitalTransformation #Leadership #InnovationMindset #TechInnovation\"}\n"
          ]
        }
      ]
    },
    {
      "cell_type": "markdown",
      "source": [
        "RunnablePassthrough"
      ],
      "metadata": {
        "id": "73bvGggRzNsz"
      }
    },
    {
      "cell_type": "code",
      "source": [
        "\n",
        "\n",
        "prompt1 = PromptTemplate(\n",
        "    template='Write a joke about {topic}',\n",
        "    input_variables=['topic']\n",
        ")\n",
        "\n",
        "os.environ[\"GROQ_API_KEY\"] = userdata.get('groq')\n",
        "\n",
        "llm = ChatGroq(\n",
        "    model=\"deepseek-r1-distill-llama-70b\",\n",
        "    temperature=0.0,\n",
        "    max_retries=2,\n",
        ")\n",
        "\n",
        "parser = StrOutputParser()\n",
        "\n",
        "prompt2 = PromptTemplate(\n",
        "    template='Explain the following joke - {text}',\n",
        "    input_variables=['text']\n",
        ")\n",
        "\n",
        "joke_gen_chain = RunnableSequence(prompt1, llm, parser)\n",
        "\n",
        "parallel_chain = RunnableParallel({\n",
        "    'joke': RunnablePassthrough(),\n",
        "    'explanation': RunnableSequence(prompt2, llm, parser)\n",
        "})\n",
        "\n",
        "final_chain = RunnableSequence(joke_gen_chain, parallel_chain)\n",
        "\n",
        "print(final_chain.invoke({'topic':'cricket'}))"
      ],
      "metadata": {
        "colab": {
          "base_uri": "https://localhost:8080/"
        },
        "id": "PkjFCsUIuNml",
        "outputId": "c586442a-097c-4fa0-d108-582cbe7a5227"
      },
      "execution_count": 16,
      "outputs": [
        {
          "output_type": "stream",
          "name": "stdout",
          "text": [
            "{'joke': '<think>\\nOkay, so I need to write a joke about cricket. Hmm, where do I start? I\\'m not super familiar with cricket, but I know it\\'s a popular sport, especially in countries like India, Australia, and the UK. Let me think about the basics of cricket to find something joke-worthy.\\n\\nCricket involves two teams, batsmen, bowlers, wickets, and runs. Maybe I can play with some of these terms. I remember that in cricket, a \"duck\" means when a batsman gets out without scoring any runs. That\\'s a real term, right? So maybe I can use that as a pun.\\n\\nWait, \"duck\" is also a bird. So perhaps I can make a joke where a duck is involved in cricket. Let me think about how that could work. Maybe the duck is playing cricket and gets out, hence scoring a duck. That seems like a classic pun.\\n\\nSo, the setup could be: Why did the duck get out in the cricket match? And the punchline would be: Because it scored a duck! That makes sense because \"duck\" has a double meaning here—as the bird and the cricket term.\\n\\nI should make sure the joke is clear and the pun is understandable. Let me check if the terms are correct. Yes, in cricket, a duck is when a batsman is dismissed without scoring. So the joke should work.\\n\\nI think that\\'s a solid joke. It\\'s simple, plays on words, and relates to cricket. I don\\'t see any issues with it. It should be understandable even to someone who\\'s not deeply familiar with cricket, as long as they know the term \"duck\" in the context of the sport.\\n\\nI guess that\\'s it. It\\'s a straightforward joke, but effective because of the wordplay. I don\\'t think I need to make it more complicated. Sometimes, simple puns are the best.\\n</think>\\n\\nWhy did the duck get out in the cricket match?  \\nBecause it scored a duck!', 'explanation': '\\n\\nThe joke plays on the double meaning of the word \"duck.\" In cricket, a \"duck\" refers to a batsman who is dismissed without scoring any runs. The humor comes from the pun where a duck (the bird) gets out (dismissed) in a cricket match because it scored a duck (the cricket term).'}\n"
          ]
        }
      ]
    },
    {
      "cell_type": "markdown",
      "source": [
        "RunnableBranch"
      ],
      "metadata": {
        "id": "igdwi24QzR-J"
      }
    },
    {
      "cell_type": "code",
      "source": [
        "prompt1 = PromptTemplate(\n",
        "    template='Write a detailed report on {topic}',\n",
        "    input_variables=['topic']\n",
        ")\n",
        "\n",
        "prompt2 = PromptTemplate(\n",
        "    template='Summarize the following text \\n {text}',\n",
        "    input_variables=['text']\n",
        ")\n",
        "\n",
        "os.environ[\"GROQ_API_KEY\"] = userdata.get('groq')\n",
        "\n",
        "llm = ChatGroq(\n",
        "    model=\"deepseek-r1-distill-llama-70b\",\n",
        "    temperature=0.0,\n",
        "    max_retries=2,\n",
        ")\n",
        "\n",
        "\n",
        "parser = StrOutputParser()\n",
        "\n",
        "report_gen_chain = prompt1 | llm | parser\n",
        "\n",
        "branch_chain = RunnableBranch(\n",
        "    (lambda x: len(x.split())>300, prompt2 | llm | parser),\n",
        "    RunnablePassthrough()\n",
        ")\n",
        "\n",
        "final_chain = RunnableSequence(report_gen_chain, branch_chain)\n",
        "\n",
        "print(final_chain.invoke({'topic':'Russia vs Ukraine'}))"
      ],
      "metadata": {
        "colab": {
          "base_uri": "https://localhost:8080/"
        },
        "id": "UFzmfppBuYWy",
        "outputId": "9b6ce620-da33-43e1-8428-48bd2b6752df"
      },
      "execution_count": 18,
      "outputs": [
        {
          "output_type": "stream",
          "name": "stdout",
          "text": [
            "\n",
            "\n",
            "**Russia vs Ukraine Conflict Summary**\n",
            "\n",
            "The conflict between Russia and Ukraine is deeply rooted in historical, political, and cultural factors. Here is a structured summary of the key points:\n",
            "\n",
            "1. **Historical Context:**\n",
            "   - Both nations were part of the Soviet Union until its dissolution in 1991.\n",
            "   - Ukraine sought closer ties with the West, while Russia aimed to maintain influence over former Soviet states.\n",
            "\n",
            "2. **Key Events:**\n",
            "   - **Orange Revolution (2004):** A pro-democracy movement led to a pro-Western government, opposed by Russia.\n",
            "   - **Euromaidan Protests (2014):** Led to the ousting of President Viktor Yanukovych, followed by Russia's annexation of Crimea and support for separatists in Eastern Ukraine.\n",
            "   - **2022 Invasion:** A full-scale invasion by Russia, resulting in international sanctions and significant military aid to Ukraine.\n",
            "\n",
            "3. **Current Situation:**\n",
            "   - The war continues with ongoing battles; Ukraine has had successes in counter-offensives but a resolution remains elusive.\n",
            "\n",
            "4. **Human Impact:**\n",
            "   - Thousands of casualties, millions displaced, and significant infrastructure destruction.\n",
            "   - Humanitarian crisis and global food shortages due to disrupted grain exports.\n",
            "\n",
            "5. **Political and Economic Factors:**\n",
            "   - **Russia:** Motivated by preventing NATO expansion and protecting Russian-speaking populations; economy impacted by sanctions.\n",
            "   - **Ukraine:** President Zelensky leads national unity; economy reliant on international aid.\n",
            "\n",
            "6. **International Response:**\n",
            "   - Substantial military and financial aid from NATO, EU, and the US; UN mediation efforts unsuccessful.\n",
            "\n",
            "7. **Media Influence:**\n",
            "   - Propaganda from both sides affects public opinion; social media amplifies misinformation.\n",
            "\n",
            "8. **Future Implications:**\n",
            "   - Long-term rebuilding required for Ukraine; altered geopolitical relationships with the West.\n",
            "\n",
            "9. **Environmental and Legal Considerations:**\n",
            "   - Environmental damage, particularly concerning nuclear safety; discussions on war crimes and accountability.\n",
            "\n",
            "**Conclusion:**\n",
            "The Russia-Ukraine conflict is multifaceted, with deep historical roots and significant global implications. Resolution requires continued international engagement and a nuanced understanding of the complexities involved.\n"
          ]
        }
      ]
    },
    {
      "cell_type": "markdown",
      "source": [
        "RunnableBranch\n"
      ],
      "metadata": {
        "id": "zdygJMAJzTkS"
      }
    },
    {
      "cell_type": "code",
      "source": [
        "def word_count(text):\n",
        "    return len(text.split())\n",
        "\n",
        "prompt = PromptTemplate(\n",
        "    template='Write a joke about {topic}',\n",
        "    input_variables=['topic']\n",
        ")\n",
        "os.environ[\"GROQ_API_KEY\"] = userdata.get('groq')\n",
        "\n",
        "llm = ChatGroq(\n",
        "    model=\"deepseek-r1-distill-llama-70b\",\n",
        "    temperature=0.0,\n",
        "    max_retries=2,\n",
        ")\n",
        "\n",
        "\n",
        "parser = StrOutputParser()\n",
        "\n",
        "joke_gen_chain = RunnableSequence(prompt, llm, parser)\n",
        "\n",
        "parallel_chain = RunnableParallel({\n",
        "    'joke': RunnablePassthrough(),\n",
        "    'word_count': RunnableLambda(word_count)\n",
        "})\n",
        "\n",
        "final_chain = RunnableSequence(joke_gen_chain, parallel_chain)\n",
        "\n",
        "result = final_chain.invoke({'topic':'AI'})\n",
        "\n",
        "final_result = \"\"\"{} \\n word count - {}\"\"\".format(result['joke'], result['word_count'])\n",
        "\n",
        "print(final_result)"
      ],
      "metadata": {
        "colab": {
          "base_uri": "https://localhost:8080/"
        },
        "id": "Wh8cgjMfyO1b",
        "outputId": "91e176cf-6c67-4052-a2fb-486e4fd46a16"
      },
      "execution_count": 20,
      "outputs": [
        {
          "output_type": "stream",
          "name": "stdout",
          "text": [
            "<think>\n",
            "Okay, so I need to write a joke about AI. Hmm, where do I start? I'm not super familiar with AI, but I know it's related to computers and machine learning. Maybe I can think about common AI terms or concepts that people find funny or relatable.\n",
            "\n",
            "Let me brainstorm some ideas. AI often deals with data, learning, algorithms. Maybe I can play on words with these terms. For example, \"data\" sounds like \"date,\" so maybe a joke about AI going on a date? Or \"algorithm\" could be twisted into something funny.\n",
            "\n",
            "Wait, I remember hearing a joke before about AI and emotions. Maybe I can create something around that. AI systems don't have feelings, so perhaps a joke where an AI tries to be emotional but fails in a funny way.\n",
            "\n",
            "Or maybe something about AI taking over the world, but that's more of a common trope and might not be as funny. I want something light-hearted. Let me think about interactions between humans and AI. Maybe a conversation where the AI misunderstands something.\n",
            "\n",
            "Oh, I remember a joke where a human asks an AI to write a joke, and the AI responds with something meta. That could be funny. Or maybe the AI makes a joke that's too logical and not funny, highlighting the difference between human and AI humor.\n",
            "\n",
            "Wait, here's an idea: Why don't AI systems tell jokes? Because they're always too busy processing the punchlines! That plays on the word \"processing,\" which is something computers do, and the idea that they're so focused on the mechanics they can't deliver the joke.\n",
            "\n",
            "Alternatively, maybe something about AI not understanding humor because it's too logical. Like, why did the AI go to comedy school? Because it wanted to learn how to process humor! But that might be a bit forced.\n",
            "\n",
            "I think the first idea is better. Let me refine it. \"Why don't AI systems tell jokes? Because they're always too busy processing the punchlines!\" It's a play on words with \"processing,\" which has a double meaning here—both the computer processing and the act of dealing with something.\n",
            "\n",
            "I think that works. It's simple, uses a common term related to AI, and the pun makes it funny without being too complicated. Plus, it's relatable because people know that computers process information, so the joke makes sense on that level.\n",
            "</think>\n",
            "\n",
            "Why don't AI systems tell jokes? Because they're always too busy processing the punchlines! \n",
            " word count - 408\n"
          ]
        }
      ]
    }
  ]
}
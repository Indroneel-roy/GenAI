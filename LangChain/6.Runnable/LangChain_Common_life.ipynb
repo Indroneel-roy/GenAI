{
  "nbformat": 4,
  "nbformat_minor": 0,
  "metadata": {
    "colab": {
      "provenance": []
    },
    "kernelspec": {
      "name": "python3",
      "display_name": "Python 3"
    },
    "language_info": {
      "name": "python"
    }
  },
  "cells": [
    {
      "cell_type": "markdown",
      "metadata": {
        "id": "15eec9d0"
      },
      "source": [
        "## Fake LLM Class"
      ]
    },
    {
      "cell_type": "code",
      "execution_count": 32,
      "metadata": {
        "id": "1uBaGa4yT5sg"
      },
      "outputs": [],
      "source": [
        "# Fake LLM Class\n",
        "import random\n",
        "class FakeLLM:\n",
        "  def __init__(self):\n",
        "    print(\"LLM Created\")\n",
        "  def predict(self, promts):\n",
        "    response_list = [\n",
        "        'Dhaka is the capital of Bangladesh',\n",
        "        'Knows about a lot',\n",
        "        'AI stands for Artificial Intelligence'\n",
        "    ]\n",
        "    return {\"Response\" : random.choice(response_list)}"
      ]
    },
    {
      "cell_type": "markdown",
      "metadata": {
        "id": "622c6c07"
      },
      "source": [
        "## Fake Prompt Template Class"
      ]
    },
    {
      "cell_type": "code",
      "source": [
        "# Fake Prompt Template Class\n",
        "class FakePromtTemplate:\n",
        "  def __init__(self, template, input_variables):\n",
        "    self.template = template\n",
        "    self.input_variables = input_variables\n",
        "  def format(self, input_dict):\n",
        "    return self.template.format(**input_dict)"
      ],
      "metadata": {
        "id": "Ad62GHcJVJLP"
      },
      "execution_count": 33,
      "outputs": []
    },
    {
      "cell_type": "markdown",
      "metadata": {
        "id": "acc52fb0"
      },
      "source": [
        "## Initialize Prompt Template"
      ]
    },
    {
      "cell_type": "code",
      "source": [
        "# Initialize Prompt Template\n",
        "template = FakePromtTemplate(\n",
        "    template='Write a {length} poem about {topic}',\n",
        "    input_variables=['length', 'topic']\n",
        ")"
      ],
      "metadata": {
        "id": "mHJTFrSGV2nU"
      },
      "execution_count": 34,
      "outputs": []
    },
    {
      "cell_type": "markdown",
      "metadata": {
        "id": "8f170ed4"
      },
      "source": [
        "## Format Prompt"
      ]
    },
    {
      "cell_type": "code",
      "source": [
        "# Format Prompt\n",
        "prompt = template.format({'length':'short','topic':'bangladesh'})"
      ],
      "metadata": {
        "id": "CeSQi_lCWEMB"
      },
      "execution_count": 35,
      "outputs": []
    },
    {
      "cell_type": "markdown",
      "metadata": {
        "id": "6b8cb05b"
      },
      "source": [
        "## Initialize Fake LLM"
      ]
    },
    {
      "cell_type": "code",
      "source": [
        "# Initialize Fake LLM\n",
        "llm = FakeLLM()"
      ],
      "metadata": {
        "colab": {
          "base_uri": "https://localhost:8080/"
        },
        "id": "Pt3M13xuXqCx",
        "outputId": "1d932ef0-46fa-432c-904b-f77b2dccd95c"
      },
      "execution_count": 36,
      "outputs": [
        {
          "output_type": "stream",
          "name": "stdout",
          "text": [
            "LLM Created\n"
          ]
        }
      ]
    },
    {
      "cell_type": "markdown",
      "metadata": {
        "id": "9b3f099c"
      },
      "source": [
        "## Predict using Fake LLM"
      ]
    },
    {
      "cell_type": "code",
      "source": [
        "# Predict using Fake LLM\n",
        "llm.predict(prompt)"
      ],
      "metadata": {
        "colab": {
          "base_uri": "https://localhost:8080/"
        },
        "id": "x_C1UecTXtfj",
        "outputId": "8b8ba6ac-b1aa-4f1b-ac90-95c2b540fb3c"
      },
      "execution_count": 37,
      "outputs": [
        {
          "output_type": "execute_result",
          "data": {
            "text/plain": [
              "{'Response': 'Dhaka is the capital of Bangladesh'}"
            ]
          },
          "metadata": {},
          "execution_count": 37
        }
      ]
    },
    {
      "cell_type": "markdown",
      "metadata": {
        "id": "a7cb08a2"
      },
      "source": [
        "## Fake LLM Chain Class"
      ]
    },
    {
      "cell_type": "code",
      "source": [
        "# Fake LLM Chain Class\n",
        "class FakeLLMChain:\n",
        "\n",
        "  def __init__(self, llm, prompt):\n",
        "    self.llm = llm\n",
        "    self.prompt = prompt\n",
        "\n",
        "  def run(self, input_dict):\n",
        "\n",
        "    final_prompt = self.prompt.format(input_dict)\n",
        "    result = self.llm.predict(final_prompt)\n",
        "\n",
        "    return result['Response']"
      ],
      "metadata": {
        "id": "5HaJ1bEeXx1b"
      },
      "execution_count": 38,
      "outputs": []
    },
    {
      "cell_type": "markdown",
      "metadata": {
        "id": "1d1311fc"
      },
      "source": [
        "## Initialize Fake LLM Chain"
      ]
    },
    {
      "cell_type": "code",
      "source": [
        "# Initialize Fake LLM Chain\n",
        "chain = FakeLLMChain(llm, template)"
      ],
      "metadata": {
        "id": "Te8r0XWOYSZR"
      },
      "execution_count": 39,
      "outputs": []
    },
    {
      "cell_type": "markdown",
      "metadata": {
        "id": "3ed7b3e9"
      },
      "source": [
        "## Run Fake LLM Chain"
      ]
    },
    {
      "cell_type": "code",
      "source": [
        "# Run Fake LLM Chain\n",
        "chain.run({\"length\" : \"short\", \"topic\" : \"Bangladesh\"})"
      ],
      "metadata": {
        "colab": {
          "base_uri": "https://localhost:8080/",
          "height": 35
        },
        "id": "QrccRm-4YcLD",
        "outputId": "d6762bb2-d1da-48bf-b180-df21b6deab22"
      },
      "execution_count": 40,
      "outputs": [
        {
          "output_type": "execute_result",
          "data": {
            "text/plain": [
              "'Knows about a lot'"
            ],
            "application/vnd.google.colaboratory.intrinsic+json": {
              "type": "string"
            }
          },
          "metadata": {},
          "execution_count": 40
        }
      ]
    }
  ]
}